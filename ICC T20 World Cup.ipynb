{
 "cells": [
  {
   "cell_type": "markdown",
   "id": "d7b8e311",
   "metadata": {},
   "source": [
    "# About Author\n",
    "- Project: ICC Men's T20 World Cup\n",
    "- Author: Maham Noor\n",
    "- Contact's info: mahamnoor575@gmail.com"
   ]
  },
  {
   "attachments": {},
   "cell_type": "markdown",
   "id": "234324e2",
   "metadata": {},
   "source": [
    "# About Data\n",
    "- Data: ICC Men's T20 World Cup\n",
    "- Data link: https://www.kaggle.com/datasets/muhammadroshaanriaz/icc-mens-t20-worldcup?select=ICC+Mens+T20+Worldcup.csv#:~:text=calendar_view_week-,ICC%20Mens%20T20%20Worldcup.csv,-Summary      "
   ]
  },
  {
   "cell_type": "markdown",
   "id": "4778c3f8",
   "metadata": {},
   "source": [
    "## Task:\n",
    "We intend to conduct an Exploratory Data Analysis (EDA) on the given dataset. The EDA will serve as the basis for the necessary Data Wrangling activities to be carried out for the purposes of data cleaning and normalization. During the coding process, we will document our observations. Ultimately, we will produce a summary and draw conclusions from our findings."
   ]
  },
  {
   "cell_type": "markdown",
   "id": "d92ec009",
   "metadata": {},
   "source": [
    "## Objectives\n",
    "The primary aim of this project is to conduct a thorough analysis of the dataset to identify significant insights. The ultimate goal is to project and emphasize customer dynamics and demands to developers and other relevant stakeholders. This will assist in driving more business towards their upcoming applications."
   ]
  },
  {
   "cell_type": "markdown",
   "id": "6795bb2a",
   "metadata": {},
   "source": [
    "## About Dataset\n",
    "ICC Men's T20 World Cup Dataset\n",
    "This dataset contains detailed information about the matches played in the ICC Men's T20 World Cup. It includes the following columns:\n",
    "\n",
    "- Match No.: The sequential number of the match.\n",
    "- Date: The date when the match was played.\n",
    "- Venue: The location where the match took place.\n",
    "- 1st Team: The team that batted first.\n",
    "- 2nd Team: The team that batted second.\n",
    "- Stage: The stage of the tournament (e.g., Group A, Group B, etc.).\n",
    "- Toss: The team that won the toss.\n",
    "- Winning Toss Decision: The decision made by the team winning the toss (e.g., Batting, Fielding).\n",
    "- First Innings Score: The score made by the team batting first.\n",
    "- Fall of Wickets First Innings: The number of wickets fallen in the first innings.\n",
    "- Second Innings Score: The score made by the team batting second.\n",
    "- Fall of Wickets Second Innings: The number of wickets fallen in the second innings.\n",
    "- Winners: The team that won the match.\n",
    "- Method: The method by which the match was decided (e.g., Normal Match or Duckworth Lewis Stern (DLS)).\n",
    "- Won by: The method of victory (e.g., Runs, Wickets).\n",
    "- Winning Margin: The margin of victory.\n",
    "- Top Scorer: The player with the highest score in the match.\n",
    "- Highest Score: The highest individual score made by a player in the match.\n",
    "- Best Bowler: The player with the best bowling performance.\n",
    "- Best Bowler Figure: The bowling figures of the best bowler.\n",
    "- Player Of The Match: The player adjudged as the best performer of the match.\n"
   ]
  },
  {
   "cell_type": "markdown",
   "id": "409c2516",
   "metadata": {},
   "source": [
    "## Importing Libraries"
   ]
  },
  {
   "cell_type": "code",
   "execution_count": 4,
   "id": "8a6f1ac0",
   "metadata": {},
   "outputs": [],
   "source": [
    "import pandas as pd\n",
    "import numpy as np\n",
    "import matplotlib.pyplot as plt\n",
    "import seaborn as sns\n",
    "import scipy as sp\n",
    "import plotly.express as px"
   ]
  },
  {
   "cell_type": "markdown",
   "id": "d05b09ee",
   "metadata": {},
   "source": [
    "## Data Loading, Exploration and Wrangling"
   ]
  },
  {
   "cell_type": "markdown",
   "id": "2447121f",
   "metadata": {},
   "source": [
    "- 1.Load the csv file\n",
    "- 2.Creating dataframe and will understand the data\n",
    "- 3.Dealing with missing values"
   ]
  },
  {
   "cell_type": "code",
   "execution_count": 5,
   "id": "da38b3e0",
   "metadata": {},
   "outputs": [],
   "source": [
    "df = pd.read_csv(\"C:\\ICC Mens T20 Worldcup.csv\")"
   ]
  },
  {
   "cell_type": "code",
   "execution_count": 6,
   "id": "c3e5b834",
   "metadata": {},
   "outputs": [],
   "source": [
    "pd.set_option('display.max_columns',None)"
   ]
  },
  {
   "cell_type": "code",
   "execution_count": 7,
   "id": "8c9f9200",
   "metadata": {},
   "outputs": [],
   "source": [
    "import warnings\n",
    "warnings.filterwarnings('ignore')"
   ]
  },
  {
   "cell_type": "code",
   "execution_count": 8,
   "id": "1c36b040",
   "metadata": {},
   "outputs": [
    {
     "data": {
      "text/html": [
       "<div>\n",
       "<style scoped>\n",
       "    .dataframe tbody tr th:only-of-type {\n",
       "        vertical-align: middle;\n",
       "    }\n",
       "\n",
       "    .dataframe tbody tr th {\n",
       "        vertical-align: top;\n",
       "    }\n",
       "\n",
       "    .dataframe thead th {\n",
       "        text-align: right;\n",
       "    }\n",
       "</style>\n",
       "<table border=\"1\" class=\"dataframe\">\n",
       "  <thead>\n",
       "    <tr style=\"text-align: right;\">\n",
       "      <th></th>\n",
       "      <th>Match No.</th>\n",
       "      <th>Date</th>\n",
       "      <th>Venue</th>\n",
       "      <th>1st Team</th>\n",
       "      <th>2nd Team</th>\n",
       "      <th>Stage</th>\n",
       "      <th>Toss Winning</th>\n",
       "      <th>Toss Decision</th>\n",
       "      <th>First Innings Score</th>\n",
       "      <th>Fall of wickets First Innings</th>\n",
       "      <th>Second Innings Score</th>\n",
       "      <th>Fall of wickets Second Innings</th>\n",
       "      <th>Winners</th>\n",
       "      <th>Method</th>\n",
       "      <th>Won by</th>\n",
       "      <th>Winning Margin</th>\n",
       "      <th>Top Scorer</th>\n",
       "      <th>Highest Score</th>\n",
       "      <th>Best Bowler</th>\n",
       "      <th>Best Bowler Figure(Wickets Taken)</th>\n",
       "      <th>Best Bowler Figure(Runs Recieved)</th>\n",
       "      <th>Player Of The Match</th>\n",
       "    </tr>\n",
       "  </thead>\n",
       "  <tbody>\n",
       "    <tr>\n",
       "      <th>0</th>\n",
       "      <td>1st</td>\n",
       "      <td>Saturday,June 1,2024</td>\n",
       "      <td>Grand Prairie Stadium, Dallas</td>\n",
       "      <td>Canada</td>\n",
       "      <td>United State Of America</td>\n",
       "      <td>Group A</td>\n",
       "      <td>United State Of America</td>\n",
       "      <td>Fielding</td>\n",
       "      <td>194</td>\n",
       "      <td>5</td>\n",
       "      <td>197</td>\n",
       "      <td>3</td>\n",
       "      <td>United State Of America</td>\n",
       "      <td>Normal Match</td>\n",
       "      <td>Wickets</td>\n",
       "      <td>7</td>\n",
       "      <td>Aaron Jones</td>\n",
       "      <td>94</td>\n",
       "      <td>Dilon Heyliger</td>\n",
       "      <td>1</td>\n",
       "      <td>19</td>\n",
       "      <td>Aaron Jones</td>\n",
       "    </tr>\n",
       "    <tr>\n",
       "      <th>1</th>\n",
       "      <td>2nd</td>\n",
       "      <td>Sunday,June 2,2024</td>\n",
       "      <td>Providence Stadium, Guyana</td>\n",
       "      <td>Papua New Guinea</td>\n",
       "      <td>Afghanistan</td>\n",
       "      <td>Group C</td>\n",
       "      <td>Afghanistan</td>\n",
       "      <td>Fielding</td>\n",
       "      <td>95</td>\n",
       "      <td>10</td>\n",
       "      <td>101</td>\n",
       "      <td>3</td>\n",
       "      <td>Afghanistan</td>\n",
       "      <td>Normal Match</td>\n",
       "      <td>Wickets</td>\n",
       "      <td>7</td>\n",
       "      <td>Gulbadin Naib</td>\n",
       "      <td>49</td>\n",
       "      <td>Fazalhaq Farooqi</td>\n",
       "      <td>3</td>\n",
       "      <td>16</td>\n",
       "      <td>Fazalhaq Farooqi</td>\n",
       "    </tr>\n",
       "    <tr>\n",
       "      <th>2</th>\n",
       "      <td>3rd</td>\n",
       "      <td>Sunday,June 2,2024</td>\n",
       "      <td>Kensington Oval, Bridgetown, Barbados</td>\n",
       "      <td>Oman</td>\n",
       "      <td>Namibia</td>\n",
       "      <td>Group B</td>\n",
       "      <td>Namibia</td>\n",
       "      <td>Fielding</td>\n",
       "      <td>109</td>\n",
       "      <td>10</td>\n",
       "      <td>109</td>\n",
       "      <td>6</td>\n",
       "      <td>Namibia</td>\n",
       "      <td>Normal Match</td>\n",
       "      <td>Wickets</td>\n",
       "      <td>4</td>\n",
       "      <td>Jan Frylinck</td>\n",
       "      <td>45</td>\n",
       "      <td>Mehran Khan</td>\n",
       "      <td>3</td>\n",
       "      <td>7</td>\n",
       "      <td>David Wiese</td>\n",
       "    </tr>\n",
       "    <tr>\n",
       "      <th>3</th>\n",
       "      <td>4th</td>\n",
       "      <td>Monday,June 3,2024</td>\n",
       "      <td>Nassau County International Cricket Stadium, N...</td>\n",
       "      <td>Sri Lanka</td>\n",
       "      <td>South Africa</td>\n",
       "      <td>Group D</td>\n",
       "      <td>Sri Lanka</td>\n",
       "      <td>Batting</td>\n",
       "      <td>77</td>\n",
       "      <td>10</td>\n",
       "      <td>80</td>\n",
       "      <td>4</td>\n",
       "      <td>South Africa</td>\n",
       "      <td>Normal Match</td>\n",
       "      <td>Wickets</td>\n",
       "      <td>6</td>\n",
       "      <td>Quinton de Kock</td>\n",
       "      <td>20</td>\n",
       "      <td>Anrich Nortje</td>\n",
       "      <td>4</td>\n",
       "      <td>7</td>\n",
       "      <td>Anrich Nortje</td>\n",
       "    </tr>\n",
       "    <tr>\n",
       "      <th>4</th>\n",
       "      <td>5th</td>\n",
       "      <td>Monday,June 3,2024</td>\n",
       "      <td>Providence Stadium, Guyana</td>\n",
       "      <td>Afghanistan</td>\n",
       "      <td>Uganda</td>\n",
       "      <td>Group C</td>\n",
       "      <td>Uganda</td>\n",
       "      <td>Fielding</td>\n",
       "      <td>183</td>\n",
       "      <td>5</td>\n",
       "      <td>58</td>\n",
       "      <td>10</td>\n",
       "      <td>Afghanistan</td>\n",
       "      <td>Normal Match</td>\n",
       "      <td>Runs</td>\n",
       "      <td>125</td>\n",
       "      <td>Rahmanullah Gurbaz</td>\n",
       "      <td>76</td>\n",
       "      <td>Fazalhaq Farooqi</td>\n",
       "      <td>5</td>\n",
       "      <td>9</td>\n",
       "      <td>Fazalhaq Farooqi</td>\n",
       "    </tr>\n",
       "    <tr>\n",
       "      <th>5</th>\n",
       "      <td>6th</td>\n",
       "      <td>Tuesday,June 4,2024</td>\n",
       "      <td>Kensington Oval, Bridgetown, Barbados</td>\n",
       "      <td>Scotland</td>\n",
       "      <td>England</td>\n",
       "      <td>Group B</td>\n",
       "      <td>Scotland</td>\n",
       "      <td>Batting</td>\n",
       "      <td>90</td>\n",
       "      <td>0</td>\n",
       "      <td>Rain</td>\n",
       "      <td>Rain</td>\n",
       "      <td>Rain</td>\n",
       "      <td>Rain</td>\n",
       "      <td>Rain</td>\n",
       "      <td>Rain</td>\n",
       "      <td>Rain</td>\n",
       "      <td>Rain</td>\n",
       "      <td>Rain</td>\n",
       "      <td>Rain</td>\n",
       "      <td>Rain</td>\n",
       "      <td>Rain</td>\n",
       "    </tr>\n",
       "    <tr>\n",
       "      <th>6</th>\n",
       "      <td>7th</td>\n",
       "      <td>Tuesday,June 4,2024</td>\n",
       "      <td>Grand Prairie Stadium, Dallas</td>\n",
       "      <td>Nepal</td>\n",
       "      <td>Netherlands</td>\n",
       "      <td>Group D</td>\n",
       "      <td>Netherlands</td>\n",
       "      <td>Fielding</td>\n",
       "      <td>106</td>\n",
       "      <td>10</td>\n",
       "      <td>109</td>\n",
       "      <td>4</td>\n",
       "      <td>Netherlands</td>\n",
       "      <td>Normal Match</td>\n",
       "      <td>Wickets</td>\n",
       "      <td>6</td>\n",
       "      <td>Max O'Dowd</td>\n",
       "      <td>54</td>\n",
       "      <td>Tim Pringle</td>\n",
       "      <td>3</td>\n",
       "      <td>20</td>\n",
       "      <td>Tim Pringle</td>\n",
       "    </tr>\n",
       "    <tr>\n",
       "      <th>7</th>\n",
       "      <td>8th</td>\n",
       "      <td>Wednesday,June 5,2024</td>\n",
       "      <td>Nassau County International Cricket Stadium, N...</td>\n",
       "      <td>Ireland</td>\n",
       "      <td>India</td>\n",
       "      <td>Group A</td>\n",
       "      <td>India</td>\n",
       "      <td>Fielding</td>\n",
       "      <td>96</td>\n",
       "      <td>10</td>\n",
       "      <td>97</td>\n",
       "      <td>2</td>\n",
       "      <td>India</td>\n",
       "      <td>Normal Match</td>\n",
       "      <td>Wickets</td>\n",
       "      <td>8</td>\n",
       "      <td>Rohit Sharma</td>\n",
       "      <td>52</td>\n",
       "      <td>Jasprit Bumrah</td>\n",
       "      <td>2</td>\n",
       "      <td>6</td>\n",
       "      <td>Jasprit Bumrah</td>\n",
       "    </tr>\n",
       "    <tr>\n",
       "      <th>8</th>\n",
       "      <td>9th</td>\n",
       "      <td>Wednesday,June 5,2024</td>\n",
       "      <td>Providence Stadium, Guyana</td>\n",
       "      <td>Papua New Guinea</td>\n",
       "      <td>Uganda</td>\n",
       "      <td>Group C</td>\n",
       "      <td>Uganda</td>\n",
       "      <td>Fielding</td>\n",
       "      <td>77</td>\n",
       "      <td>10</td>\n",
       "      <td>78</td>\n",
       "      <td>8</td>\n",
       "      <td>Uganda</td>\n",
       "      <td>Normal Match</td>\n",
       "      <td>Wickets</td>\n",
       "      <td>3</td>\n",
       "      <td>Riazat Ali Shah</td>\n",
       "      <td>33</td>\n",
       "      <td>Alpesh Ramjani</td>\n",
       "      <td>17</td>\n",
       "      <td>17</td>\n",
       "      <td>Riazat Ali Shah</td>\n",
       "    </tr>\n",
       "    <tr>\n",
       "      <th>9</th>\n",
       "      <td>10th</td>\n",
       "      <td>Wednesday,June 5,2024</td>\n",
       "      <td>Kensington Oval, Bridgetown, Barbados</td>\n",
       "      <td>Australia</td>\n",
       "      <td>Oman</td>\n",
       "      <td>Group B</td>\n",
       "      <td>Oman</td>\n",
       "      <td>Fielding</td>\n",
       "      <td>164</td>\n",
       "      <td>5</td>\n",
       "      <td>125</td>\n",
       "      <td>9</td>\n",
       "      <td>Australia</td>\n",
       "      <td>Normal Match</td>\n",
       "      <td>Runs</td>\n",
       "      <td>39</td>\n",
       "      <td>Marcus Stoinis</td>\n",
       "      <td>67</td>\n",
       "      <td>Marcus Stoinis</td>\n",
       "      <td>3</td>\n",
       "      <td>19</td>\n",
       "      <td>Marcus Stoinis</td>\n",
       "    </tr>\n",
       "  </tbody>\n",
       "</table>\n",
       "</div>"
      ],
      "text/plain": [
       "  Match No.                   Date  \\\n",
       "0       1st   Saturday,June 1,2024   \n",
       "1       2nd     Sunday,June 2,2024   \n",
       "2       3rd     Sunday,June 2,2024   \n",
       "3       4th     Monday,June 3,2024   \n",
       "4       5th     Monday,June 3,2024   \n",
       "5       6th    Tuesday,June 4,2024   \n",
       "6       7th    Tuesday,June 4,2024   \n",
       "7       8th  Wednesday,June 5,2024   \n",
       "8       9th  Wednesday,June 5,2024   \n",
       "9      10th  Wednesday,June 5,2024   \n",
       "\n",
       "                                               Venue          1st Team  \\\n",
       "0                      Grand Prairie Stadium, Dallas            Canada   \n",
       "1                         Providence Stadium, Guyana  Papua New Guinea   \n",
       "2              Kensington Oval, Bridgetown, Barbados              Oman   \n",
       "3  Nassau County International Cricket Stadium, N...         Sri Lanka   \n",
       "4                         Providence Stadium, Guyana       Afghanistan   \n",
       "5              Kensington Oval, Bridgetown, Barbados          Scotland   \n",
       "6                      Grand Prairie Stadium, Dallas             Nepal   \n",
       "7  Nassau County International Cricket Stadium, N...           Ireland   \n",
       "8                         Providence Stadium, Guyana  Papua New Guinea   \n",
       "9              Kensington Oval, Bridgetown, Barbados         Australia   \n",
       "\n",
       "                  2nd Team    Stage             Toss Winning Toss Decision  \\\n",
       "0  United State Of America  Group A  United State Of America      Fielding   \n",
       "1              Afghanistan  Group C              Afghanistan      Fielding   \n",
       "2                  Namibia  Group B                  Namibia      Fielding   \n",
       "3             South Africa  Group D                Sri Lanka       Batting   \n",
       "4                   Uganda  Group C                   Uganda      Fielding   \n",
       "5                  England  Group B                 Scotland       Batting   \n",
       "6              Netherlands  Group D              Netherlands      Fielding   \n",
       "7                    India  Group A                    India      Fielding   \n",
       "8                   Uganda  Group C                   Uganda      Fielding   \n",
       "9                     Oman  Group B                     Oman      Fielding   \n",
       "\n",
       "  First Innings Score Fall of wickets First Innings Second Innings Score  \\\n",
       "0                 194                             5                  197   \n",
       "1                  95                            10                  101   \n",
       "2                 109                            10                  109   \n",
       "3                  77                            10                   80   \n",
       "4                 183                             5                   58   \n",
       "5                  90                             0                 Rain   \n",
       "6                 106                            10                  109   \n",
       "7                  96                            10                   97   \n",
       "8                  77                            10                   78   \n",
       "9                 164                             5                  125   \n",
       "\n",
       "  Fall of wickets Second Innings                  Winners        Method  \\\n",
       "0                              3  United State Of America  Normal Match   \n",
       "1                              3              Afghanistan  Normal Match   \n",
       "2                              6                  Namibia  Normal Match   \n",
       "3                              4             South Africa  Normal Match   \n",
       "4                             10              Afghanistan  Normal Match   \n",
       "5                           Rain                     Rain          Rain   \n",
       "6                              4              Netherlands  Normal Match   \n",
       "7                              2                    India  Normal Match   \n",
       "8                              8                   Uganda  Normal Match   \n",
       "9                              9                Australia  Normal Match   \n",
       "\n",
       "    Won by Winning Margin          Top Scorer Highest Score       Best Bowler  \\\n",
       "0  Wickets              7         Aaron Jones            94    Dilon Heyliger   \n",
       "1  Wickets              7       Gulbadin Naib            49  Fazalhaq Farooqi   \n",
       "2  Wickets              4        Jan Frylinck            45       Mehran Khan   \n",
       "3  Wickets              6     Quinton de Kock            20     Anrich Nortje   \n",
       "4     Runs            125  Rahmanullah Gurbaz            76  Fazalhaq Farooqi   \n",
       "5     Rain           Rain                Rain          Rain              Rain   \n",
       "6  Wickets              6          Max O'Dowd            54       Tim Pringle   \n",
       "7  Wickets              8        Rohit Sharma            52    Jasprit Bumrah   \n",
       "8  Wickets              3     Riazat Ali Shah            33    Alpesh Ramjani   \n",
       "9     Runs             39      Marcus Stoinis            67    Marcus Stoinis   \n",
       "\n",
       "  Best Bowler Figure(Wickets Taken) Best Bowler Figure(Runs Recieved)  \\\n",
       "0                                 1                                19   \n",
       "1                                 3                                16   \n",
       "2                                 3                                 7   \n",
       "3                                 4                                 7   \n",
       "4                                 5                                 9   \n",
       "5                              Rain                              Rain   \n",
       "6                                 3                                20   \n",
       "7                                 2                                 6   \n",
       "8                                17                                17   \n",
       "9                                 3                                19   \n",
       "\n",
       "  Player Of The Match  \n",
       "0         Aaron Jones  \n",
       "1    Fazalhaq Farooqi  \n",
       "2         David Wiese  \n",
       "3       Anrich Nortje  \n",
       "4    Fazalhaq Farooqi  \n",
       "5                Rain  \n",
       "6         Tim Pringle  \n",
       "7      Jasprit Bumrah  \n",
       "8     Riazat Ali Shah  \n",
       "9      Marcus Stoinis  "
      ]
     },
     "execution_count": 8,
     "metadata": {},
     "output_type": "execute_result"
    }
   ],
   "source": [
    "df.head(10)"
   ]
  },
  {
   "cell_type": "code",
   "execution_count": 9,
   "id": "a9335e76",
   "metadata": {},
   "outputs": [
    {
     "name": "stdout",
     "output_type": "stream",
     "text": [
      "<class 'pandas.core.frame.DataFrame'>\n",
      "RangeIndex: 55 entries, 0 to 54\n",
      "Data columns (total 22 columns):\n",
      " #   Column                             Non-Null Count  Dtype \n",
      "---  ------                             --------------  ----- \n",
      " 0   Match No.                          55 non-null     object\n",
      " 1   Date                               55 non-null     object\n",
      " 2   Venue                              55 non-null     object\n",
      " 3   1st Team                           55 non-null     object\n",
      " 4   2nd Team                           55 non-null     object\n",
      " 5   Stage                              55 non-null     object\n",
      " 6   Toss Winning                       55 non-null     object\n",
      " 7   Toss Decision                      55 non-null     object\n",
      " 8   First Innings Score                55 non-null     object\n",
      " 9   Fall of wickets First Innings      55 non-null     object\n",
      " 10  Second Innings Score               55 non-null     object\n",
      " 11  Fall of wickets Second Innings     55 non-null     object\n",
      " 12  Winners                            55 non-null     object\n",
      " 13  Method                             55 non-null     object\n",
      " 14  Won by                             55 non-null     object\n",
      " 15  Winning Margin                     55 non-null     object\n",
      " 16  Top Scorer                         55 non-null     object\n",
      " 17  Highest Score                      55 non-null     object\n",
      " 18  Best Bowler                        55 non-null     object\n",
      " 19  Best Bowler Figure(Wickets Taken)  55 non-null     object\n",
      " 20  Best Bowler Figure(Runs Recieved)  55 non-null     object\n",
      " 21  Player Of The Match                55 non-null     object\n",
      "dtypes: object(22)\n",
      "memory usage: 9.6+ KB\n"
     ]
    }
   ],
   "source": [
    "df.info()"
   ]
  },
  {
   "cell_type": "markdown",
   "id": "e01549ab",
   "metadata": {},
   "source": [
    "## Shape of the data"
   ]
  },
  {
   "cell_type": "code",
   "execution_count": 10,
   "id": "16092b56",
   "metadata": {},
   "outputs": [
    {
     "name": "stdout",
     "output_type": "stream",
     "text": [
      " This dataset has 55 rows and 22 columns\n"
     ]
    }
   ],
   "source": [
    "print(f\" This dataset has {df.shape[0]} rows and {df.shape[1]} columns\")"
   ]
  },
  {
   "cell_type": "markdown",
   "id": "3456619b",
   "metadata": {},
   "source": [
    "### Let's deal with the missing values in the dataset"
   ]
  },
  {
   "cell_type": "code",
   "execution_count": 11,
   "id": "c89f2a16",
   "metadata": {},
   "outputs": [
    {
     "data": {
      "text/plain": [
       "Match No.                            0\n",
       "Date                                 0\n",
       "Venue                                0\n",
       "1st Team                             0\n",
       "2nd Team                             0\n",
       "Stage                                0\n",
       "Toss Winning                         0\n",
       "Toss Decision                        0\n",
       "First Innings Score                  0\n",
       "Fall of wickets First Innings        0\n",
       "Second Innings Score                 0\n",
       "Fall of wickets Second Innings       0\n",
       "Winners                              0\n",
       "Method                               0\n",
       "Won by                               0\n",
       "Winning Margin                       0\n",
       "Top Scorer                           0\n",
       "Highest Score                        0\n",
       "Best Bowler                          0\n",
       "Best Bowler Figure(Wickets Taken)    0\n",
       "Best Bowler Figure(Runs Recieved)    0\n",
       "Player Of The Match                  0\n",
       "dtype: int64"
      ]
     },
     "execution_count": 11,
     "metadata": {},
     "output_type": "execute_result"
    }
   ],
   "source": [
    "df.isnull().sum()"
   ]
  },
  {
   "cell_type": "markdown",
   "id": "b12cdfaa",
   "metadata": {},
   "source": [
    "## Milestone 1\n",
    "- There is no missing valus in the datset. which means we do not have to deal with them"
   ]
  },
  {
   "cell_type": "markdown",
   "id": "f07eb048",
   "metadata": {},
   "source": [
    "## Duplicates value"
   ]
  },
  {
   "cell_type": "code",
   "execution_count": 12,
   "id": "5411736d",
   "metadata": {},
   "outputs": [
    {
     "data": {
      "text/plain": [
       "False"
      ]
     },
     "execution_count": 12,
     "metadata": {},
     "output_type": "execute_result"
    }
   ],
   "source": [
    "df.duplicated().any()"
   ]
  },
  {
   "cell_type": "markdown",
   "id": "cd264a25",
   "metadata": {},
   "source": [
    "## Observation\n",
    "- There is no duplcates in the datset."
   ]
  },
  {
   "cell_type": "markdown",
   "id": "c5ab980a",
   "metadata": {},
   "source": [
    "## Let's have a look at the numeric columns of the datset."
   ]
  },
  {
   "cell_type": "code",
   "execution_count": 13,
   "id": "51923795",
   "metadata": {},
   "outputs": [
    {
     "data": {
      "text/html": [
       "<div>\n",
       "<style scoped>\n",
       "    .dataframe tbody tr th:only-of-type {\n",
       "        vertical-align: middle;\n",
       "    }\n",
       "\n",
       "    .dataframe tbody tr th {\n",
       "        vertical-align: top;\n",
       "    }\n",
       "\n",
       "    .dataframe thead th {\n",
       "        text-align: right;\n",
       "    }\n",
       "</style>\n",
       "<table border=\"1\" class=\"dataframe\">\n",
       "  <thead>\n",
       "    <tr style=\"text-align: right;\">\n",
       "      <th></th>\n",
       "      <th>Match No.</th>\n",
       "      <th>Date</th>\n",
       "      <th>Venue</th>\n",
       "      <th>1st Team</th>\n",
       "      <th>2nd Team</th>\n",
       "      <th>Stage</th>\n",
       "      <th>Toss Winning</th>\n",
       "      <th>Toss Decision</th>\n",
       "      <th>First Innings Score</th>\n",
       "      <th>Fall of wickets First Innings</th>\n",
       "      <th>Second Innings Score</th>\n",
       "      <th>Fall of wickets Second Innings</th>\n",
       "      <th>Winners</th>\n",
       "      <th>Method</th>\n",
       "      <th>Won by</th>\n",
       "      <th>Winning Margin</th>\n",
       "      <th>Top Scorer</th>\n",
       "      <th>Highest Score</th>\n",
       "      <th>Best Bowler</th>\n",
       "      <th>Best Bowler Figure(Wickets Taken)</th>\n",
       "      <th>Best Bowler Figure(Runs Recieved)</th>\n",
       "      <th>Player Of The Match</th>\n",
       "    </tr>\n",
       "  </thead>\n",
       "  <tbody>\n",
       "    <tr>\n",
       "      <th>count</th>\n",
       "      <td>55</td>\n",
       "      <td>55</td>\n",
       "      <td>55</td>\n",
       "      <td>55</td>\n",
       "      <td>55</td>\n",
       "      <td>55</td>\n",
       "      <td>55</td>\n",
       "      <td>55</td>\n",
       "      <td>55</td>\n",
       "      <td>55</td>\n",
       "      <td>55</td>\n",
       "      <td>55</td>\n",
       "      <td>55</td>\n",
       "      <td>55</td>\n",
       "      <td>55</td>\n",
       "      <td>55</td>\n",
       "      <td>55</td>\n",
       "      <td>55</td>\n",
       "      <td>55</td>\n",
       "      <td>55</td>\n",
       "      <td>55</td>\n",
       "      <td>55</td>\n",
       "    </tr>\n",
       "    <tr>\n",
       "      <th>unique</th>\n",
       "      <td>55</td>\n",
       "      <td>26</td>\n",
       "      <td>9</td>\n",
       "      <td>19</td>\n",
       "      <td>18</td>\n",
       "      <td>9</td>\n",
       "      <td>19</td>\n",
       "      <td>3</td>\n",
       "      <td>41</td>\n",
       "      <td>9</td>\n",
       "      <td>43</td>\n",
       "      <td>12</td>\n",
       "      <td>17</td>\n",
       "      <td>3</td>\n",
       "      <td>3</td>\n",
       "      <td>29</td>\n",
       "      <td>39</td>\n",
       "      <td>38</td>\n",
       "      <td>41</td>\n",
       "      <td>8</td>\n",
       "      <td>28</td>\n",
       "      <td>44</td>\n",
       "    </tr>\n",
       "    <tr>\n",
       "      <th>top</th>\n",
       "      <td>1st</td>\n",
       "      <td>Friday,June 14,2024</td>\n",
       "      <td>Kensington Oval, Bridgetown, Barbados</td>\n",
       "      <td>India</td>\n",
       "      <td>England</td>\n",
       "      <td>Group A</td>\n",
       "      <td>England</td>\n",
       "      <td>Fielding</td>\n",
       "      <td>106</td>\n",
       "      <td>10</td>\n",
       "      <td>Rain</td>\n",
       "      <td>10</td>\n",
       "      <td>South Africa</td>\n",
       "      <td>Normal Match</td>\n",
       "      <td>Runs</td>\n",
       "      <td>7</td>\n",
       "      <td>Rain</td>\n",
       "      <td>Rain</td>\n",
       "      <td>Rain</td>\n",
       "      <td>3</td>\n",
       "      <td>16</td>\n",
       "      <td>Rain</td>\n",
       "    </tr>\n",
       "    <tr>\n",
       "      <th>freq</th>\n",
       "      <td>1</td>\n",
       "      <td>3</td>\n",
       "      <td>9</td>\n",
       "      <td>6</td>\n",
       "      <td>7</td>\n",
       "      <td>11</td>\n",
       "      <td>6</td>\n",
       "      <td>42</td>\n",
       "      <td>4</td>\n",
       "      <td>16</td>\n",
       "      <td>4</td>\n",
       "      <td>10</td>\n",
       "      <td>8</td>\n",
       "      <td>48</td>\n",
       "      <td>26</td>\n",
       "      <td>9</td>\n",
       "      <td>4</td>\n",
       "      <td>4</td>\n",
       "      <td>4</td>\n",
       "      <td>25</td>\n",
       "      <td>6</td>\n",
       "      <td>4</td>\n",
       "    </tr>\n",
       "  </tbody>\n",
       "</table>\n",
       "</div>"
      ],
      "text/plain": [
       "       Match No.                 Date                                  Venue  \\\n",
       "count         55                   55                                     55   \n",
       "unique        55                   26                                      9   \n",
       "top          1st  Friday,June 14,2024  Kensington Oval, Bridgetown, Barbados   \n",
       "freq           1                    3                                      9   \n",
       "\n",
       "       1st Team 2nd Team    Stage Toss Winning Toss Decision  \\\n",
       "count        55       55       55           55            55   \n",
       "unique       19       18        9           19             3   \n",
       "top       India  England  Group A      England      Fielding   \n",
       "freq          6        7       11            6            42   \n",
       "\n",
       "       First Innings Score Fall of wickets First Innings Second Innings Score  \\\n",
       "count                   55                            55                   55   \n",
       "unique                  41                             9                   43   \n",
       "top                    106                            10                 Rain   \n",
       "freq                     4                            16                    4   \n",
       "\n",
       "       Fall of wickets Second Innings       Winners        Method Won by  \\\n",
       "count                              55            55            55     55   \n",
       "unique                             12            17             3      3   \n",
       "top                                10  South Africa  Normal Match   Runs   \n",
       "freq                               10             8            48     26   \n",
       "\n",
       "       Winning Margin Top Scorer Highest Score Best Bowler  \\\n",
       "count              55         55            55          55   \n",
       "unique             29         39            38          41   \n",
       "top                 7       Rain          Rain        Rain   \n",
       "freq                9          4             4           4   \n",
       "\n",
       "       Best Bowler Figure(Wickets Taken) Best Bowler Figure(Runs Recieved)  \\\n",
       "count                                 55                                55   \n",
       "unique                                 8                                28   \n",
       "top                                    3                                16   \n",
       "freq                                  25                                 6   \n",
       "\n",
       "       Player Of The Match  \n",
       "count                   55  \n",
       "unique                  44  \n",
       "top                   Rain  \n",
       "freq                     4  "
      ]
     },
     "execution_count": 13,
     "metadata": {},
     "output_type": "execute_result"
    }
   ],
   "source": [
    "df.describe()"
   ]
  },
  {
   "cell_type": "markdown",
   "id": "bfff018d",
   "metadata": {},
   "source": [
    "## Observation set 2\n",
    "- It is giving us alot of information:\n",
    "- 1.It is giving the total count along with unique values of each column.\n",
    "- 2.It is also giving the top values of each column.\n"
   ]
  },
  {
   "cell_type": "markdown",
   "id": "afab368c",
   "metadata": {},
   "source": [
    "## Important Observation:\n",
    "- 1.Top toss winning team is : England\n",
    "- 2.Top toss decision is Fielding\n",
    "- 3.Top venue is Kensington Oval, Bridgetown, Barbados.\n",
    "- 4.Most matches won by Wickets,"
   ]
  },
  {
   "cell_type": "markdown",
   "id": "e3d7dbad",
   "metadata": {},
   "source": [
    "## Removing the rain from the columns"
   ]
  },
  {
   "cell_type": "code",
   "execution_count": 14,
   "id": "20f5c666",
   "metadata": {},
   "outputs": [],
   "source": [
    "df['First Innings Score'] = df['First Innings Score'].apply(lambda x: x.replace('Rain', '0') if 'Rain' in str(x) else x)"
   ]
  },
  {
   "cell_type": "markdown",
   "id": "0dde52e9",
   "metadata": {},
   "source": [
    "## Converting column into int"
   ]
  },
  {
   "cell_type": "code",
   "execution_count": 15,
   "id": "7350411e",
   "metadata": {},
   "outputs": [],
   "source": [
    "df['First Innings Score'] = df['First Innings Score'].apply(lambda x: int(x))"
   ]
  },
  {
   "cell_type": "markdown",
   "id": "a52f0c05",
   "metadata": {},
   "source": [
    "## Let's work on the Second Innings Score column"
   ]
  },
  {
   "cell_type": "code",
   "execution_count": 16,
   "id": "274b5f26",
   "metadata": {},
   "outputs": [
    {
     "data": {
      "text/plain": [
       "0     197\n",
       "1     101\n",
       "2     109\n",
       "3      80\n",
       "4      58\n",
       "5       0\n",
       "6     109\n",
       "7      97\n",
       "8      78\n",
       "9     125\n",
       "10    160\n",
       "11    157\n",
       "12    125\n",
       "13     75\n",
       "14    125\n",
       "15    106\n",
       "16    165\n",
       "17     39\n",
       "18    113\n",
       "19    153\n",
       "20    109\n",
       "21    107\n",
       "22      0\n",
       "23     74\n",
       "24    111\n",
       "25    136\n",
       "26    134\n",
       "27     50\n",
       "28    101\n",
       "29      0\n",
       "30    114\n",
       "31     41\n",
       "32      0\n",
       "33     84\n",
       "34    186\n",
       "35    111\n",
       "36     85\n",
       "37    118\n",
       "38     79\n",
       "39    114\n",
       "40    176\n",
       "41    181\n",
       "42    134\n",
       "43    100\n",
       "44    156\n",
       "45    130\n",
       "46    146\n",
       "47    127\n",
       "48    117\n",
       "49    124\n",
       "50    181\n",
       "51    105\n",
       "52     60\n",
       "53    103\n",
       "54    169\n",
       "Name: Second Innings Score, dtype: int64"
      ]
     },
     "execution_count": 16,
     "metadata": {},
     "output_type": "execute_result"
    }
   ],
   "source": [
    "df['Second Innings Score'] = df['Second Innings Score'].apply(lambda x: x.replace('Rain', '0') if 'Rain' in str(x) else x)\n",
    "df['Second Innings Score'] = df['Second Innings Score'].apply(lambda x: int(x))\n",
    "df['Second Innings Score']"
   ]
  },
  {
   "cell_type": "markdown",
   "id": "706d6d9e",
   "metadata": {},
   "source": [
    "## Succefully done"
   ]
  },
  {
   "cell_type": "markdown",
   "id": "99a26561",
   "metadata": {},
   "source": [
    "## Let's work on Highest Score column.\n"
   ]
  },
  {
   "cell_type": "code",
   "execution_count": 17,
   "id": "5e1aa8bf",
   "metadata": {},
   "outputs": [
    {
     "data": {
      "text/plain": [
       "0     94\n",
       "1     49\n",
       "2     45\n",
       "3     20\n",
       "4     76\n",
       "5      0\n",
       "6     54\n",
       "7     52\n",
       "8     33\n",
       "9     67\n",
       "10    50\n",
       "11    35\n",
       "12    49\n",
       "13    80\n",
       "14    47\n",
       "15    59\n",
       "16    42\n",
       "17    44\n",
       "18    42\n",
       "19    31\n",
       "20    46\n",
       "21    52\n",
       "22     0\n",
       "23    36\n",
       "24    50\n",
       "25    68\n",
       "26    64\n",
       "27    24\n",
       "28    49\n",
       "29     0\n",
       "30    43\n",
       "31    22\n",
       "32     0\n",
       "33    47\n",
       "34    59\n",
       "35    32\n",
       "36    27\n",
       "37    46\n",
       "38    35\n",
       "39    98\n",
       "40    74\n",
       "41    87\n",
       "42    53\n",
       "43    53\n",
       "44    65\n",
       "45    82\n",
       "46    50\n",
       "47    60\n",
       "48    83\n",
       "49    52\n",
       "50    92\n",
       "51    54\n",
       "52    29\n",
       "53    57\n",
       "54    76\n",
       "Name: Highest Score, dtype: int64"
      ]
     },
     "execution_count": 17,
     "metadata": {},
     "output_type": "execute_result"
    }
   ],
   "source": [
    "df['Highest Score'] = df['Highest Score'].apply(lambda x: x.replace('Rain', '0') if 'Rain' in str(x) else x)\n",
    "df['Highest Score'] = df['Highest Score'].apply(lambda x: int(x))\n",
    "df['Highest Score']"
   ]
  },
  {
   "cell_type": "markdown",
   "id": "bda829a5",
   "metadata": {},
   "source": [
    "### Succesfully changed."
   ]
  },
  {
   "cell_type": "markdown",
   "id": "43f307cc",
   "metadata": {},
   "source": [
    "## Let's work on Winning Margin column"
   ]
  },
  {
   "cell_type": "code",
   "execution_count": 18,
   "id": "965d22ca",
   "metadata": {},
   "outputs": [
    {
     "data": {
      "text/plain": [
       "0       7\n",
       "1       7\n",
       "2       4\n",
       "3       6\n",
       "4     125\n",
       "5       0\n",
       "6       6\n",
       "7       8\n",
       "8       3\n",
       "9      39\n",
       "10      1\n",
       "11      5\n",
       "12     12\n",
       "13     84\n",
       "14      2\n",
       "15      4\n",
       "16     36\n",
       "17    134\n",
       "18      6\n",
       "19      7\n",
       "20      4\n",
       "21      7\n",
       "22      0\n",
       "23      9\n",
       "24      7\n",
       "25     13\n",
       "26     25\n",
       "27      8\n",
       "28      7\n",
       "29      0\n",
       "30      1\n",
       "31      9\n",
       "32      0\n",
       "33     41\n",
       "34      5\n",
       "35      3\n",
       "36     21\n",
       "37     83\n",
       "38      7\n",
       "39    104\n",
       "40     18\n",
       "41      8\n",
       "42     47\n",
       "43     28\n",
       "44      7\n",
       "45      9\n",
       "46     50\n",
       "47     21\n",
       "48     10\n",
       "49      3\n",
       "50     24\n",
       "51      8\n",
       "52      9\n",
       "53     68\n",
       "54      7\n",
       "Name: Winning Margin, dtype: int64"
      ]
     },
     "execution_count": 18,
     "metadata": {},
     "output_type": "execute_result"
    }
   ],
   "source": [
    "df['Winning Margin'] = df['Winning Margin'].apply(lambda x: x.replace('Rain', '0') if 'Rain' in str(x) else x)\n",
    "df['Winning Margin'] = df['Winning Margin'].apply(lambda x: int(x))\n",
    "df['Winning Margin']"
   ]
  },
  {
   "cell_type": "markdown",
   "id": "a33683c4",
   "metadata": {},
   "source": [
    "### Succefully done"
   ]
  },
  {
   "cell_type": "markdown",
   "id": "8ee75dae",
   "metadata": {},
   "source": [
    "## Data Visualization\n"
   ]
  },
  {
   "cell_type": "code",
   "execution_count": 19,
   "id": "222476c7",
   "metadata": {},
   "outputs": [
    {
     "data": {
      "text/plain": [
       "Match No.                            55\n",
       "Date                                 26\n",
       "Venue                                 9\n",
       "1st Team                             19\n",
       "2nd Team                             18\n",
       "Stage                                 9\n",
       "Toss Winning                         19\n",
       "Toss Decision                         3\n",
       "First Innings Score                  41\n",
       "Fall of wickets First Innings         9\n",
       "Second Innings Score                 43\n",
       "Fall of wickets Second Innings       12\n",
       "Winners                              17\n",
       "Method                                3\n",
       "Won by                                3\n",
       "Winning Margin                       29\n",
       "Top Scorer                           39\n",
       "Highest Score                        38\n",
       "Best Bowler                          41\n",
       "Best Bowler Figure(Wickets Taken)     8\n",
       "Best Bowler Figure(Runs Recieved)    28\n",
       "Player Of The Match                  44\n",
       "dtype: int64"
      ]
     },
     "execution_count": 19,
     "metadata": {},
     "output_type": "execute_result"
    }
   ],
   "source": [
    "df.nunique()"
   ]
  },
  {
   "cell_type": "code",
   "execution_count": 20,
   "id": "22e089f6",
   "metadata": {},
   "outputs": [
    {
     "data": {
      "text/plain": [
       "Text(0.5, 1.0, 'Winners vs First Inning score')"
      ]
     },
     "execution_count": 20,
     "metadata": {},
     "output_type": "execute_result"
    },
    {
     "data": {
      "image/png": "[encoded data removed]",
      "text/plain": [
       "<Figure size 640x480 with 1 Axes>"
      ]
     },
     "metadata": {},
     "output_type": "display_data"
    }
   ],
   "source": [
    "sns.barplot(data = df , x='First Innings Score',y ='Winners')\n",
    "plt.xlabel(\"First Inning Score\")\n",
    "plt.ylabel(\"Winners\")\n",
    "plt.title(\"Winners vs First Inning score\")\n"
   ]
  },
  {
   "cell_type": "code",
   "execution_count": 21,
   "id": "cfb33fbd",
   "metadata": {},
   "outputs": [
    {
     "data": {
      "text/plain": [
       "Text(0.5, 1.0, 'Winners vs Second Innings Score')"
      ]
     },
     "execution_count": 21,
     "metadata": {},
     "output_type": "execute_result"
    },
    {
     "data": {
      "image/png": "[encoded data removed]",
      "text/plain": [
       "<Figure size 640x480 with 1 Axes>"
      ]
     },
     "metadata": {},
     "output_type": "display_data"
    }
   ],
   "source": [
    "sns.barplot(data = df , x='Second Innings Score',y ='Winners')\n",
    "plt.xlabel(\"Second Innings Score\")\n",
    "plt.ylabel(\"Winners\")\n",
    "plt.title(\"Winners vs Second Innings Score\")\n"
   ]
  },
  {
   "cell_type": "code",
   "execution_count": 22,
   "id": "1b0d45e9",
   "metadata": {},
   "outputs": [
    {
     "data": {
      "text/plain": [
       "Text(0.5, 1.0, 'Winners vs Winning Margin')"
      ]
     },
     "execution_count": 22,
     "metadata": {},
     "output_type": "execute_result"
    },
    {
     "data": {
      "image/png": "[encoded data removed]",
      "text/plain": [
       "<Figure size 640x480 with 1 Axes>"
      ]
     },
     "metadata": {},
     "output_type": "display_data"
    }
   ],
   "source": [
    "sns.barplot(data = df , x='Winning Margin',y ='Winners')\n",
    "plt.xlabel(\"Winning Margin\")\n",
    "plt.ylabel(\"Winners\")\n",
    "plt.title(\"Winners vs Winning Margin\")\n"
   ]
  },
  {
   "cell_type": "code",
   "execution_count": null,
   "id": "5e044a23",
   "metadata": {},
   "outputs": [],
   "source": []
  },
  {
   "cell_type": "code",
   "execution_count": null,
   "id": "234a4e05",
   "metadata": {},
   "outputs": [],
   "source": []
  },
  {
   "cell_type": "markdown",
   "id": "bdd87d6b",
   "metadata": {},
   "source": [
    "# Questions and Answers"
   ]
  },
  {
   "cell_type": "markdown",
   "id": "32201f0d",
   "metadata": {},
   "source": [
    "## Question no 1:\n",
    "What is the highest Toss decision?"
   ]
  },
  {
   "cell_type": "code",
   "execution_count": 23,
   "id": "d0daec2f",
   "metadata": {},
   "outputs": [
    {
     "name": "stdout",
     "output_type": "stream",
     "text": [
      "Toss Decision\n",
      "Fielding    42\n",
      "Batting     10\n",
      "Name: count, dtype: int64\n"
     ]
    }
   ],
   "source": [
    "toss_counts = df['Toss Decision'].value_counts().sort_values(ascending = False)\n",
    "if 'Rain' in toss_counts.index:\n",
    "    toss_counts  = toss_counts.drop('Rain')\n",
    "print(toss_counts.head(10))\n"
   ]
  },
  {
   "cell_type": "markdown",
   "id": "10baa9f3",
   "metadata": {},
   "source": [
    "- let's plot it"
   ]
  },
  {
   "cell_type": "code",
   "execution_count": 24,
   "id": "a86a0d6f",
   "metadata": {},
   "outputs": [
    {
     "data": {
      "text/plain": [
       "<Axes: ylabel='Toss Decision'>"
      ]
     },
     "execution_count": 24,
     "metadata": {},
     "output_type": "execute_result"
    },
    {
     "data": {
      "image/png": "[encoded data removed]",
      "text/plain": [
       "<Figure size 640x480 with 1 Axes>"
      ]
     },
     "metadata": {},
     "output_type": "display_data"
    }
   ],
   "source": [
    "toss_counts.plot(kind ='barh',color = 'blue')"
   ]
  },
  {
   "cell_type": "markdown",
   "id": "26e516be",
   "metadata": {},
   "source": [
    "## Answer 1\n",
    "- Fielding First."
   ]
  },
  {
   "cell_type": "markdown",
   "id": "d82af54c",
   "metadata": {},
   "source": [
    "## Question 2\n",
    "what are the top stage in which matches were palyed?"
   ]
  },
  {
   "cell_type": "code",
   "execution_count": 25,
   "id": "562403c4",
   "metadata": {},
   "outputs": [
    {
     "data": {
      "text/plain": [
       "Stage\n",
       "Group A           11\n",
       "Group C           10\n",
       "Group B           10\n",
       "Group D           10\n",
       "Group 1            6\n",
       "Group 2            5\n",
       "1st Semi-Final     1\n",
       "2nd Semi-Final     1\n",
       "Final              1\n",
       "Name: count, dtype: int64"
      ]
     },
     "execution_count": 25,
     "metadata": {},
     "output_type": "execute_result"
    }
   ],
   "source": [
    "stage_count = df['Stage'].value_counts().sort_values(ascending = False)\n",
    "stage_count"
   ]
  },
  {
   "cell_type": "markdown",
   "id": "7c5e5534",
   "metadata": {},
   "source": [
    "## Answer 2\n",
    "- IN GROUP A MOST MATCHES WERE PLAYED."
   ]
  },
  {
   "cell_type": "markdown",
   "id": "d0c514b4",
   "metadata": {},
   "source": [
    "### Let's plot it"
   ]
  },
  {
   "cell_type": "markdown",
   "id": "42adbf6d",
   "metadata": {},
   "source": [
    "## Question 03\n",
    "Which are the teams who won both toss and match?"
   ]
  },
  {
   "cell_type": "code",
   "execution_count": 26,
   "id": "c80c0130",
   "metadata": {},
   "outputs": [
    {
     "name": "stdout",
     "output_type": "stream",
     "text": [
      "Toss Winning             Winners                \n",
      "India                    India                      4\n",
      "Afghanistan              Afghanistan                3\n",
      "Australia                Australia                  3\n",
      "South Africa             South Africa               3\n",
      "England                  England                    3\n",
      "United State Of America  United State Of America    2\n",
      "Pakistan                 Pakistan                   2\n",
      "New Zealand              New Zealand                2\n",
      "West Indies              West Indies                2\n",
      "England                  South Africa               1\n",
      "Name: count, dtype: int64\n"
     ]
    }
   ],
   "source": [
    "toss_match = df.groupby('Toss Winning')['Winners'].value_counts().sort_values(ascending = False)\n",
    "if 'Rain' in toss_match.index:\n",
    "    toss_match = toss_match.drop('Rain')\n",
    "print(toss_match.head(10))"
   ]
  },
  {
   "cell_type": "markdown",
   "id": "95852afd",
   "metadata": {},
   "source": [
    "## Answer 3\n",
    "Above is given all the teams who won both match and toss.Along with the teams who won the toss but did not won the match."
   ]
  },
  {
   "cell_type": "markdown",
   "id": "651f33e8",
   "metadata": {},
   "source": [
    "## Question no 04\n",
    "what is the average min and max score of first as well 2nd inning?"
   ]
  },
  {
   "cell_type": "code",
   "execution_count": 27,
   "id": "13e915d6",
   "metadata": {},
   "outputs": [
    {
     "name": "stdout",
     "output_type": "stream",
     "text": [
      "The min score in first innings is:0\n"
     ]
    }
   ],
   "source": [
    "print(f\"The min score in first innings is:{df['First Innings Score'].min()}\")"
   ]
  },
  {
   "cell_type": "code",
   "execution_count": 28,
   "id": "3bfc4642",
   "metadata": {},
   "outputs": [
    {
     "name": "stdout",
     "output_type": "stream",
     "text": [
      "The max score in first innings is:218\n"
     ]
    }
   ],
   "source": [
    "print(f\"The max score in first innings is:{df['First Innings Score'].max()}\")"
   ]
  },
  {
   "cell_type": "code",
   "execution_count": 29,
   "id": "a1e27b0b",
   "metadata": {},
   "outputs": [
    {
     "name": "stdout",
     "output_type": "stream",
     "text": [
      "The average score in first innings is:126.56363636363636\n"
     ]
    }
   ],
   "source": [
    "print(f\"The average score in first innings is:{df['First Innings Score'].mean()}\")"
   ]
  },
  {
   "cell_type": "code",
   "execution_count": 30,
   "id": "63b293d9",
   "metadata": {},
   "outputs": [
    {
     "name": "stdout",
     "output_type": "stream",
     "text": [
      "The min score in second innings is:0\n"
     ]
    }
   ],
   "source": [
    "print(f\"The min score in second innings is:{df['Second Innings Score'].min()}\")"
   ]
  },
  {
   "cell_type": "code",
   "execution_count": 31,
   "id": "a0ca7be3",
   "metadata": {},
   "outputs": [
    {
     "name": "stdout",
     "output_type": "stream",
     "text": [
      "The max score in second innings is:197\n"
     ]
    }
   ],
   "source": [
    "print(f\"The max score in second innings is:{df['Second Innings Score'].max()}\")"
   ]
  },
  {
   "cell_type": "code",
   "execution_count": 32,
   "id": "2e225402",
   "metadata": {},
   "outputs": [
    {
     "name": "stdout",
     "output_type": "stream",
     "text": [
      "The average score in second innings is:107.9090909090909\n"
     ]
    }
   ],
   "source": [
    "print(f\"The average score in second innings is:{df['Second Innings Score'].mean()}\")"
   ]
  },
  {
   "cell_type": "markdown",
   "id": "5ae29ef9",
   "metadata": {},
   "source": [
    "## Answer 4\n",
    "- The maximum score in first innings is greater than in 2nd innings."
   ]
  },
  {
   "cell_type": "markdown",
   "id": "27dc2b3a",
   "metadata": {},
   "source": [
    "## Question no 05\n",
    "how many player of the match each player won?"
   ]
  },
  {
   "cell_type": "code",
   "execution_count": 33,
   "id": "bfe2c9a2",
   "metadata": {},
   "outputs": [
    {
     "name": "stdout",
     "output_type": "stream",
     "text": [
      "Player Of The Match\n",
      "Fazalhaq Farooqi    3\n",
      "Tabraiz Shamsi      2\n",
      "Adil Rashid         2\n",
      "Jasprit Bumrah      2\n",
      "Marcus Stoinis      2\n",
      "Quinton de Kock     2\n",
      "Adam Zampa          2\n",
      "Nicholas Kirton     1\n",
      "David Wiese         1\n",
      "Anrich Nortje       1\n",
      "Name: count, dtype: int64\n"
     ]
    }
   ],
   "source": [
    "\n",
    "player_counts = df['Player Of The Match'].value_counts().sort_values(ascending = False)\n",
    "if 'Rain' in player_counts.index:\n",
    "    player_counts  = player_counts.drop('Rain')\n",
    "print(player_counts.head(10))"
   ]
  },
  {
   "cell_type": "markdown",
   "id": "607d9e96",
   "metadata": {},
   "source": [
    "## Question no 6\n",
    "- In which venue how many matches were played?"
   ]
  },
  {
   "cell_type": "code",
   "execution_count": 34,
   "id": "dcdb5457",
   "metadata": {},
   "outputs": [
    {
     "data": {
      "text/plain": [
       "Venue\n",
       "Kensington Oval, Bridgetown, Barbados                            9\n",
       "Nassau County International Cricket Stadium, New York            8\n",
       "Sir Vivian Richards Stadium, North Sound, Antigua                8\n",
       "Providence Stadium, Guyana                                       6\n",
       "Daren Sammy National Cricket Stadium, Gros Islet, St Lucia       6\n",
       "Brian Lara Stadium, Tarouba, Trinidad                            5\n",
       "Arnos Vale Ground, Kingstown, St Vincent                         5\n",
       "Grand Prairie Stadium, Dallas                                    4\n",
       "Central Broward Regional Park Stadium Turf Ground, Lauderhill    4\n",
       "Name: count, dtype: int64"
      ]
     },
     "execution_count": 34,
     "metadata": {},
     "output_type": "execute_result"
    }
   ],
   "source": [
    "venue_counts = df['Venue'].value_counts().sort_values(ascending = False)\n",
    "venue_counts"
   ]
  },
  {
   "cell_type": "code",
   "execution_count": 35,
   "id": "4229ed8c",
   "metadata": {},
   "outputs": [
    {
     "data": {
      "text/plain": [
       "Text(0.5, 1.0, 'Venues on which matches were played')"
      ]
     },
     "execution_count": 35,
     "metadata": {},
     "output_type": "execute_result"
    },
    {
     "data": {
      "image/png": "[encoded data removed]",
      "text/plain": [
       "<Figure size 640x480 with 1 Axes>"
      ]
     },
     "metadata": {},
     "output_type": "display_data"
    }
   ],
   "source": [
    "plt.rcParams\n",
    "venue_counts.plot(kind ='barh',color = 'black')\n",
    "plt.xlabel(\"counts\")\n",
    "plt.ylabel(\"Venue\")\n",
    "plt.title(\"Venues on which matches were played\")"
   ]
  },
  {
   "cell_type": "markdown",
   "id": "5ccb6dc6",
   "metadata": {},
   "source": [
    "## player of the match  along with their team."
   ]
  },
  {
   "cell_type": "code",
   "execution_count": 36,
   "id": "400decfa",
   "metadata": {},
   "outputs": [
    {
     "name": "stdout",
     "output_type": "stream",
     "text": [
      "Winners       Player Of The Match\n",
      "Afghanistan   Fazalhaq Farooqi       3\n",
      "India         Jasprit Bumrah         2\n",
      "Australia     Marcus Stoinis         2\n",
      "              Adam Zampa             2\n",
      "South Africa  Quinton de Kock        2\n",
      "              Tabraiz Shamsi         2\n",
      "England       Adil Rashid            2\n",
      "Pakistan      Mohammad Amir          1\n",
      "Scotland      Brandon McMullen       1\n",
      "              Michael Leask          1\n",
      "Name: count, dtype: int64\n"
     ]
    }
   ],
   "source": [
    "top_scorer = df.groupby('Winners')['Player Of The Match'].value_counts().sort_values(ascending = False)\n",
    "if 'Rain' in top_scorer.index:\n",
    "    top_scorer = top_scorer.drop('Rain')\n",
    "print(top_scorer.head(10))"
   ]
  },
  {
   "cell_type": "markdown",
   "id": "884878f6",
   "metadata": {},
   "source": [
    "## winning teams based on the 1st innings score"
   ]
  },
  {
   "cell_type": "code",
   "execution_count": 37,
   "id": "7e6da949",
   "metadata": {},
   "outputs": [
    {
     "data": {
      "text/plain": [
       "Winners\n",
       "Sri Lanka                  201.000000\n",
       "United State Of America    176.500000\n",
       "West Indies                167.000000\n",
       "India                      153.000000\n",
       "Scotland                   152.500000\n",
       "Australia                  151.400000\n",
       "Canada                     137.000000\n",
       "Afghanistan                132.500000\n",
       "Bangladesh                 129.666667\n",
       "South Africa               119.500000\n",
       "England                    116.000000\n",
       "Namibia                    109.000000\n",
       "Netherlands                106.000000\n",
       "Pakistan                   106.000000\n",
       "Uganda                      77.000000\n",
       "New Zealand                 59.000000\n",
       "Rain                        22.500000\n",
       "Name: First Innings Score, dtype: float64"
      ]
     },
     "execution_count": 37,
     "metadata": {},
     "output_type": "execute_result"
    }
   ],
   "source": [
    "mean_scores = df.groupby('Winners')['First Innings Score'].mean()\n",
    "sorted_scores = mean_scores.sort_values(ascending = False)\n",
    "sorted_scores"
   ]
  },
  {
   "cell_type": "markdown",
   "id": "dba44079",
   "metadata": {},
   "source": [
    "## Winners along with which team won the match"
   ]
  },
  {
   "cell_type": "code",
   "execution_count": 38,
   "id": "a53070de",
   "metadata": {},
   "outputs": [],
   "source": [
    "won_counts = df.groupby(['Won by','Winners']).size().reset_index(name ='count')\n",
    "matches_by_wickets = won_counts[won_counts['Won by'] == 'Wickets']\n",
    "matches_by_runs = won_counts[won_counts['Won by'] == 'Runs']"
   ]
  },
  {
   "cell_type": "markdown",
   "id": "97b1d515",
   "metadata": {},
   "source": [
    "### Teams won by wickets"
   ]
  },
  {
   "cell_type": "code",
   "execution_count": 39,
   "id": "6ebd8ebe",
   "metadata": {},
   "outputs": [
    {
     "data": {
      "text/html": [
       "<div>\n",
       "<style scoped>\n",
       "    .dataframe tbody tr th:only-of-type {\n",
       "        vertical-align: middle;\n",
       "    }\n",
       "\n",
       "    .dataframe tbody tr th {\n",
       "        vertical-align: top;\n",
       "    }\n",
       "\n",
       "    .dataframe thead th {\n",
       "        text-align: right;\n",
       "    }\n",
       "</style>\n",
       "<table border=\"1\" class=\"dataframe\">\n",
       "  <thead>\n",
       "    <tr style=\"text-align: right;\">\n",
       "      <th></th>\n",
       "      <th>Won by</th>\n",
       "      <th>Winners</th>\n",
       "      <th>count</th>\n",
       "    </tr>\n",
       "  </thead>\n",
       "  <tbody>\n",
       "    <tr>\n",
       "      <th>21</th>\n",
       "      <td>Wickets</td>\n",
       "      <td>South Africa</td>\n",
       "      <td>4</td>\n",
       "    </tr>\n",
       "    <tr>\n",
       "      <th>14</th>\n",
       "      <td>Wickets</td>\n",
       "      <td>England</td>\n",
       "      <td>3</td>\n",
       "    </tr>\n",
       "    <tr>\n",
       "      <th>11</th>\n",
       "      <td>Wickets</td>\n",
       "      <td>Afghanistan</td>\n",
       "      <td>2</td>\n",
       "    </tr>\n",
       "    <tr>\n",
       "      <th>12</th>\n",
       "      <td>Wickets</td>\n",
       "      <td>Australia</td>\n",
       "      <td>2</td>\n",
       "    </tr>\n",
       "    <tr>\n",
       "      <th>15</th>\n",
       "      <td>Wickets</td>\n",
       "      <td>India</td>\n",
       "      <td>2</td>\n",
       "    </tr>\n",
       "    <tr>\n",
       "      <th>18</th>\n",
       "      <td>Wickets</td>\n",
       "      <td>New Zealand</td>\n",
       "      <td>2</td>\n",
       "    </tr>\n",
       "    <tr>\n",
       "      <th>19</th>\n",
       "      <td>Wickets</td>\n",
       "      <td>Pakistan</td>\n",
       "      <td>2</td>\n",
       "    </tr>\n",
       "    <tr>\n",
       "      <th>20</th>\n",
       "      <td>Wickets</td>\n",
       "      <td>Scotland</td>\n",
       "      <td>2</td>\n",
       "    </tr>\n",
       "    <tr>\n",
       "      <th>13</th>\n",
       "      <td>Wickets</td>\n",
       "      <td>Bangladesh</td>\n",
       "      <td>1</td>\n",
       "    </tr>\n",
       "    <tr>\n",
       "      <th>16</th>\n",
       "      <td>Wickets</td>\n",
       "      <td>Namibia</td>\n",
       "      <td>1</td>\n",
       "    </tr>\n",
       "    <tr>\n",
       "      <th>17</th>\n",
       "      <td>Wickets</td>\n",
       "      <td>Netherlands</td>\n",
       "      <td>1</td>\n",
       "    </tr>\n",
       "    <tr>\n",
       "      <th>22</th>\n",
       "      <td>Wickets</td>\n",
       "      <td>Uganda</td>\n",
       "      <td>1</td>\n",
       "    </tr>\n",
       "    <tr>\n",
       "      <th>23</th>\n",
       "      <td>Wickets</td>\n",
       "      <td>United State Of America</td>\n",
       "      <td>1</td>\n",
       "    </tr>\n",
       "    <tr>\n",
       "      <th>24</th>\n",
       "      <td>Wickets</td>\n",
       "      <td>West Indies</td>\n",
       "      <td>1</td>\n",
       "    </tr>\n",
       "  </tbody>\n",
       "</table>\n",
       "</div>"
      ],
      "text/plain": [
       "     Won by                  Winners  count\n",
       "21  Wickets             South Africa      4\n",
       "14  Wickets                  England      3\n",
       "11  Wickets              Afghanistan      2\n",
       "12  Wickets                Australia      2\n",
       "15  Wickets                    India      2\n",
       "18  Wickets              New Zealand      2\n",
       "19  Wickets                 Pakistan      2\n",
       "20  Wickets                 Scotland      2\n",
       "13  Wickets               Bangladesh      1\n",
       "16  Wickets                  Namibia      1\n",
       "17  Wickets              Netherlands      1\n",
       "22  Wickets                   Uganda      1\n",
       "23  Wickets  United State Of America      1\n",
       "24  Wickets              West Indies      1"
      ]
     },
     "execution_count": 39,
     "metadata": {},
     "output_type": "execute_result"
    }
   ],
   "source": [
    "sort_match = matches_by_wickets.sort_values(by ='count',ascending = False)\n",
    "sort_match"
   ]
  },
  {
   "cell_type": "markdown",
   "id": "e26431ec",
   "metadata": {},
   "source": [
    "### Team won by runs"
   ]
  },
  {
   "cell_type": "code",
   "execution_count": 40,
   "id": "7a698cf4",
   "metadata": {},
   "outputs": [
    {
     "data": {
      "text/html": [
       "<div>\n",
       "<style scoped>\n",
       "    .dataframe tbody tr th:only-of-type {\n",
       "        vertical-align: middle;\n",
       "    }\n",
       "\n",
       "    .dataframe tbody tr th {\n",
       "        vertical-align: top;\n",
       "    }\n",
       "\n",
       "    .dataframe thead th {\n",
       "        text-align: right;\n",
       "    }\n",
       "</style>\n",
       "<table border=\"1\" class=\"dataframe\">\n",
       "  <thead>\n",
       "    <tr style=\"text-align: right;\">\n",
       "      <th></th>\n",
       "      <th>Won by</th>\n",
       "      <th>Winners</th>\n",
       "      <th>count</th>\n",
       "    </tr>\n",
       "  </thead>\n",
       "  <tbody>\n",
       "    <tr>\n",
       "      <th>6</th>\n",
       "      <td>Runs</td>\n",
       "      <td>India</td>\n",
       "      <td>6</td>\n",
       "    </tr>\n",
       "    <tr>\n",
       "      <th>1</th>\n",
       "      <td>Runs</td>\n",
       "      <td>Afghanistan</td>\n",
       "      <td>4</td>\n",
       "    </tr>\n",
       "    <tr>\n",
       "      <th>7</th>\n",
       "      <td>Runs</td>\n",
       "      <td>South Africa</td>\n",
       "      <td>4</td>\n",
       "    </tr>\n",
       "    <tr>\n",
       "      <th>2</th>\n",
       "      <td>Runs</td>\n",
       "      <td>Australia</td>\n",
       "      <td>3</td>\n",
       "    </tr>\n",
       "    <tr>\n",
       "      <th>10</th>\n",
       "      <td>Runs</td>\n",
       "      <td>West Indies</td>\n",
       "      <td>3</td>\n",
       "    </tr>\n",
       "    <tr>\n",
       "      <th>3</th>\n",
       "      <td>Runs</td>\n",
       "      <td>Bangladesh</td>\n",
       "      <td>2</td>\n",
       "    </tr>\n",
       "    <tr>\n",
       "      <th>4</th>\n",
       "      <td>Runs</td>\n",
       "      <td>Canada</td>\n",
       "      <td>1</td>\n",
       "    </tr>\n",
       "    <tr>\n",
       "      <th>5</th>\n",
       "      <td>Runs</td>\n",
       "      <td>England</td>\n",
       "      <td>1</td>\n",
       "    </tr>\n",
       "    <tr>\n",
       "      <th>8</th>\n",
       "      <td>Runs</td>\n",
       "      <td>Sri Lanka</td>\n",
       "      <td>1</td>\n",
       "    </tr>\n",
       "    <tr>\n",
       "      <th>9</th>\n",
       "      <td>Runs</td>\n",
       "      <td>United State Of America</td>\n",
       "      <td>1</td>\n",
       "    </tr>\n",
       "  </tbody>\n",
       "</table>\n",
       "</div>"
      ],
      "text/plain": [
       "   Won by                  Winners  count\n",
       "6    Runs                    India      6\n",
       "1    Runs              Afghanistan      4\n",
       "7    Runs             South Africa      4\n",
       "2    Runs                Australia      3\n",
       "10   Runs              West Indies      3\n",
       "3    Runs               Bangladesh      2\n",
       "4    Runs                   Canada      1\n",
       "5    Runs                  England      1\n",
       "8    Runs                Sri Lanka      1\n",
       "9    Runs  United State Of America      1"
      ]
     },
     "execution_count": 40,
     "metadata": {},
     "output_type": "execute_result"
    }
   ],
   "source": [
    "sort_runs = matches_by_runs.sort_values(by = 'count',ascending = False)\n",
    "sort_runs"
   ]
  },
  {
   "cell_type": "markdown",
   "id": "9c1e1037",
   "metadata": {},
   "source": [
    "## Observation\n",
    "- INDIA WON THE HIGHEST MATCHES BY RUNS AND SOUTH AFRICA WON HIGHEST MATCHES BY RUNS"
   ]
  },
  {
   "cell_type": "markdown",
   "id": "458a6d49",
   "metadata": {},
   "source": [
    "## showing the top scorer along with highest scors"
   ]
  },
  {
   "cell_type": "code",
   "execution_count": 41,
   "id": "a5b4b470",
   "metadata": {},
   "outputs": [
    {
     "data": {
      "image/png": "[encoded data removed]",
      "text/plain": [
       "<Figure size 800x600 with 1 Axes>"
      ]
     },
     "metadata": {},
     "output_type": "display_data"
    }
   ],
   "source": [
    "top_scorers = df.sort_values(by='Highest Score', ascending=False).head(10)\n",
    "labels = top_scorers['Top Scorer']\n",
    "sizes = top_scorers['Highest Score']\n",
    "plt.figure(figsize=(8, 6))\n",
    "plt.pie(sizes, labels=labels, autopct='%.0f%%', startangle=140)\n",
    "plt.title(\"Top 10 Scorers\", fontsize=14)  \n",
    "plt.show()"
   ]
  },
  {
   "cell_type": "markdown",
   "id": "2112306f",
   "metadata": {},
   "source": [
    "## Winning margins along with winners"
   ]
  },
  {
   "cell_type": "code",
   "execution_count": 42,
   "id": "4118e1f7",
   "metadata": {},
   "outputs": [
    {
     "name": "stdout",
     "output_type": "stream",
     "text": [
      "               index  Afghanistan  Australia  Bangladesh  Canada  England  \\\n",
      "Winners                                                                     \n",
      "Afghanistan 0      4        125.0        NaN         NaN     NaN      NaN   \n",
      "            1     13         84.0        NaN         NaN     NaN      NaN   \n",
      "            2     47         21.0        NaN         NaN     NaN      NaN   \n",
      "            3     51          8.0        NaN         NaN     NaN      NaN   \n",
      "            4      1          7.0        NaN         NaN     NaN      NaN   \n",
      "            5     28          7.0        NaN         NaN     NaN      NaN   \n",
      "Australia   0      9          NaN       39.0         NaN     NaN      NaN   \n",
      "            1     16          NaN       36.0         NaN     NaN      NaN   \n",
      "            2     43          NaN       28.0         NaN     NaN      NaN   \n",
      "            3     23          NaN        9.0         NaN     NaN      NaN   \n",
      "\n",
      "               India  Namibia  Netherlands  New Zealand  Pakistan  Rain  \\\n",
      "Winners                                                                   \n",
      "Afghanistan 0    NaN      NaN          NaN          NaN       NaN   NaN   \n",
      "            1    NaN      NaN          NaN          NaN       NaN   NaN   \n",
      "            2    NaN      NaN          NaN          NaN       NaN   NaN   \n",
      "            3    NaN      NaN          NaN          NaN       NaN   NaN   \n",
      "            4    NaN      NaN          NaN          NaN       NaN   NaN   \n",
      "            5    NaN      NaN          NaN          NaN       NaN   NaN   \n",
      "Australia   0    NaN      NaN          NaN          NaN       NaN   NaN   \n",
      "            1    NaN      NaN          NaN          NaN       NaN   NaN   \n",
      "            2    NaN      NaN          NaN          NaN       NaN   NaN   \n",
      "            3    NaN      NaN          NaN          NaN       NaN   NaN   \n",
      "\n",
      "               Scotland  South Africa  Sri Lanka  Uganda  \\\n",
      "Winners                                                    \n",
      "Afghanistan 0       NaN           NaN        NaN     NaN   \n",
      "            1       NaN           NaN        NaN     NaN   \n",
      "            2       NaN           NaN        NaN     NaN   \n",
      "            3       NaN           NaN        NaN     NaN   \n",
      "            4       NaN           NaN        NaN     NaN   \n",
      "            5       NaN           NaN        NaN     NaN   \n",
      "Australia   0       NaN           NaN        NaN     NaN   \n",
      "            1       NaN           NaN        NaN     NaN   \n",
      "            2       NaN           NaN        NaN     NaN   \n",
      "            3       NaN           NaN        NaN     NaN   \n",
      "\n",
      "               United State Of America  West Indies  \n",
      "Winners                                              \n",
      "Afghanistan 0                      NaN          NaN  \n",
      "            1                      NaN          NaN  \n",
      "            2                      NaN          NaN  \n",
      "            3                      NaN          NaN  \n",
      "            4                      NaN          NaN  \n",
      "            5                      NaN          NaN  \n",
      "Australia   0                      NaN          NaN  \n",
      "            1                      NaN          NaN  \n",
      "            2                      NaN          NaN  \n",
      "            3                      NaN          NaN  \n"
     ]
    }
   ],
   "source": [
    "winning = df.groupby('Winners')['Winning Margin'].apply(lambda x: x.sort_values( ascending = False).reset_index())\n",
    "if 'Rain' in winning.index:\n",
    "    winning = winning.drop('Rain')\n",
    "print(winning.head(10))"
   ]
  },
  {
   "cell_type": "markdown",
   "id": "c7c6c654",
   "metadata": {},
   "source": [
    "## Top 10 wicket taker best bowler"
   ]
  },
  {
   "cell_type": "code",
   "execution_count": 43,
   "id": "a28e4703",
   "metadata": {},
   "outputs": [
    {
     "name": "stdout",
     "output_type": "stream",
     "text": [
      "Best Bowler\n",
      "Fazalhaq Farooqi      3\n",
      "Adil Rashid           3\n",
      "Rashid Khan           3\n",
      "Arshdeep Singh        2\n",
      "Adam Zampa            2\n",
      "Jasprit Bumrah        2\n",
      "Tanzim Hasan Sakib    2\n",
      "Tabraiz Shamsi        2\n",
      "Jeremy Gordon         1\n",
      "Name: count, dtype: int64\n"
     ]
    }
   ],
   "source": [
    "top_bowlers = df['Best Bowler'].value_counts().sort_values(ascending = False).head(10)\n",
    "if 'Rain' in top_bowlers.index:\n",
    "    top_bowlers = top_bowlers.drop('Rain')\n",
    "print(top_bowlers.head(10))"
   ]
  },
  {
   "cell_type": "markdown",
   "id": "ff9adbda",
   "metadata": {},
   "source": [
    "## Conclusion & Findings\n",
    "- The primary goal of this project is to analyze the Apple App Store dataset and identify insights based on the data. By doing so, we aim to project customer dynamics and demands to developers and relevant stakeholders, helping them generate more business for their upcoming applications.\n",
    "During this EDA exercise, we have achieved several milestones.\n",
    "Our findings include:\n",
    "\n",
    "Gaming apps are the most downloaded apps from the store.\n",
    "- Most matches won by wickets not runs.\n",
    "- Fazalhaq Farooqi from Afghanistan won most player of match.\n",
    "- Most matches were played on the venue \"Kensington Oval, Bridgetown, Barbados\".\n",
    "- Most of the toss won by INDIA.\n",
    "- "
   ]
  },
  {
   "cell_type": "code",
   "execution_count": null,
   "id": "b5bfd104",
   "metadata": {},
   "outputs": [],
   "source": []
  }
 ],
 "metadata": {
  "kernelspec": {
   "display_name": "Python 3 (ipykernel)",
   "language": "python",
   "name": "python3"
  },
  "language_info": {
   "codemirror_mode": {
    "name": "ipython",
    "version": 3
   },
   "file_extension": ".py",
   "mimetype": "text/x-python",
   "name": "python",
   "nbconvert_exporter": "python",
   "pygments_lexer": "ipython3",
   "version": "3.11.5"
  }
 },
 "nbformat": 4,
 "nbformat_minor": 5
}
